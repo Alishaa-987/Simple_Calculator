{
  "nbformat": 4,
  "nbformat_minor": 0,
  "metadata": {
    "colab": {
      "provenance": [],
      "authorship_tag": "ABX9TyPBbfkL3maBw+PAvXoQHlAJ",
      "include_colab_link": true
    },
    "kernelspec": {
      "name": "python3",
      "display_name": "Python 3"
    },
    "language_info": {
      "name": "python"
    }
  },
  "cells": [
    {
      "cell_type": "markdown",
      "metadata": {
        "id": "view-in-github",
        "colab_type": "text"
      },
      "source": [
        "<a href=\"https://colab.research.google.com/github/Alishaa-987/Simple_Calculator/blob/main/app_py.ipynb\" target=\"_parent\"><img src=\"https://colab.research.google.com/assets/colab-badge.svg\" alt=\"Open In Colab\"/></a>"
      ]
    },
    {
      "cell_type": "code",
      "execution_count": null,
      "metadata": {
        "id": "Mj-G0xZX-XkE"
      },
      "outputs": [],
      "source": [
        "import streamlit as st\n",
        "\n",
        "# Title of the app\n",
        "st.title(\"Simple Calculator\")\n",
        "\n",
        "# Input fields for numbers\n",
        "num1 = st.number_input(\"Enter the first number\", value=0.0)\n",
        "num2 = st.number_input(\"Enter the second number\", value=0.0)\n",
        "\n",
        "# Operation selection\n",
        "operation = st.selectbox(\"Select operation\", [\"Add\", \"Subtract\", \"Multiply\", \"Divide\"])\n",
        "\n",
        "# Perform calculation\n",
        "if operation == \"Add\":\n",
        "    result = num1 + num2\n",
        "elif operation == \"Subtract\":\n",
        "    result = num1 - num2\n",
        "elif operation == \"Multiply\":\n",
        "    result = num1 * num2\n",
        "elif operation == \"Divide\":\n",
        "    if num2 != 0:\n",
        "        result = num1 / num2\n",
        "    else:\n",
        "        result = \"Error: Division by zero\"\n",
        "\n",
        "# Display the result\n",
        "st.write(f\"Result: {result}\")\n"
      ]
    }
  ]
}